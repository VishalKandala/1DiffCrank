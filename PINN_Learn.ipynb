{
  "nbformat": 4,
  "nbformat_minor": 0,
  "metadata": {
    "colab": {
      "name": "PINN-Learn.ipynb",
      "provenance": [],
      "authorship_tag": "ABX9TyPqZeEfT/qXK4xZ+066zaEY",
      "include_colab_link": true
    },
    "kernelspec": {
      "name": "python3",
      "display_name": "Python 3"
    },
    "language_info": {
      "name": "python"
    }
  },
  "cells": [
    {
      "cell_type": "markdown",
      "metadata": {
        "id": "view-in-github",
        "colab_type": "text"
      },
      "source": [
        "<a href=\"https://colab.research.google.com/github/VishalKandala/1DiffCrank/blob/master/PINN_Learn.ipynb\" target=\"_parent\"><img src=\"https://colab.research.google.com/assets/colab-badge.svg\" alt=\"Open In Colab\"/></a>"
      ]
    },
    {
      "cell_type": "code",
      "metadata": {
        "id": "-qUilelJDWeu"
      },
      "source": [
        "|A(u_xx)+B(u_xy)+C(u_yy)+D(u_x)+E(u_y)+F(u)+G+u(0,y)-H+u(L,y)-I|=0\n",
        "(x,y),A,B,C,D,E,F,G,H,I\n"
      ],
      "execution_count": null,
      "outputs": []
    },
    {
      "cell_type": "markdown",
      "metadata": {
        "id": "ZcKvZkL4E-Kj"
      },
      "source": [
        "$\\textbf{Invsicid Burger's Equation}$\n",
        "\n",
        "\n",
        "$\\frac{\\partial u}{\\partial t}+(u\\frac{\\partial u}{\\partial x})=0$\n",
        "\n",
        "$\\textbf{Anatomy}$:\n",
        "\n",
        "1.First Order\n",
        "\n",
        "2.Non Linear\n",
        "\n",
        "3.Hyperbolic\n",
        "\n",
        "\n",
        "$\\textbf{Initial Condition}$:\n",
        "\n",
        "$u(0,x)=C$\n",
        "\n",
        "$\\textbf{Domain}$: \n",
        "\n",
        "$ x_{in}=0; x_{final}=1$\n",
        "\n",
        "$ \\textbf{Neural Network}$\n",
        "\n",
        "$\\textbf{X}=[t,x]$\n",
        "\n",
        "Two layer network with Weight matrices $W_{1}$ and $W_{2}$, bias vectors $b_{1}$ and $b_{2}$ and the non linearity being the sine function which is differentialble.\n",
        "\n",
        "\n",
        "$u=sin(W_{2}*sin(W_{1}*\\textbf(X)+\\textbf{$b_{1}$})+b_{2})$\n",
        "\n",
        "$ \\textbf{Formulation}$\n",
        "\n",
        "$u_{t}=cos(W_{2}*sin(W_{1}*\\textbf(X)+\\textbf{$b_{1}$})+b_{2})*(W_{2}*cos(W_{1}*(\\textbf{X})+\\textbf{$b_{1}$})*(W_{1}*[1,0])$\n",
        "\n",
        "$u_{x}=cos(W_{2}*sin(W_{1}*\\textbf(X)+\\textbf{$b_{1}$})+b_{2})*(W_{2}*cos(W_{1}*(\\textbf{X})+\\textbf{$b_{1}$})*(W_{1}*[0,1])$\n",
        "\n",
        "Using the above neural network and the derivatives in terms of the NN, the Inviscid Burger's equation can be recast as follows:\n",
        "\n",
        "$u_t+u*u_x=0$\n",
        "\n",
        "The Initial condition can be recast as:\n",
        "\n",
        "$ u(t,x)-C $\n",
        "\n",
        "The Loss Function can be written as :\n",
        "\n",
        "$L_{PDE}$=$|u_t+u*u_x|^{2}$\n",
        "\n",
        "$L_{IC}$=$|u-C|^{2}$\n",
        "\n",
        "$L=L_{IC}+L_{PDE}$\n",
        "\n",
        "\n",
        "\n",
        "\n",
        "\n"
      ]
    },
    {
      "cell_type": "code",
      "metadata": {
        "id": "a_J7GggEE9EG"
      },
      "source": [
        "from numpy import *\n",
        "import tensorflow as tf \n",
        "\n",
        "N=10\n",
        "#Domain#\n",
        "xmax=1\n",
        "xmin=0\n",
        "tmax=1\n",
        "tmin=0\n",
        "# Initialization#\n",
        "def u(t,x):\n",
        "  u=NN()\n",
        "X=[t[N(0-1)],x[N(0-1)]]\n",
        "\n"
      ],
      "execution_count": null,
      "outputs": []
    }
  ]
}